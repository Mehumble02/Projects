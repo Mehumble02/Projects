{
  "nbformat": 4,
  "nbformat_minor": 0,
  "metadata": {
    "colab": {
      "provenance": []
    },
    "kernelspec": {
      "name": "python3",
      "display_name": "Python 3"
    },
    "language_info": {
      "name": "python"
    }
  },
  "cells": [
    {
      "cell_type": "markdown",
      "source": [
        "#**Preprocessing & Data Examination**"
      ],
      "metadata": {
        "id": "5gH3sMM578El"
      }
    },
    {
      "cell_type": "code",
      "execution_count": 1,
      "metadata": {
        "id": "BcD7qssIcx-A",
        "colab": {
          "base_uri": "https://localhost:8080/"
        },
        "outputId": "47196cbb-f160-42fa-ca2e-da0214b2c5b5"
      },
      "outputs": [
        {
          "output_type": "stream",
          "name": "stdout",
          "text": [
            "Collecting contractions\n",
            "  Downloading contractions-0.1.73-py2.py3-none-any.whl (8.7 kB)\n",
            "Collecting textsearch>=0.0.21 (from contractions)\n",
            "  Downloading textsearch-0.0.24-py2.py3-none-any.whl (7.6 kB)\n",
            "Collecting anyascii (from textsearch>=0.0.21->contractions)\n",
            "  Downloading anyascii-0.3.2-py3-none-any.whl (289 kB)\n",
            "\u001b[2K     \u001b[90m━━━━━━━━━━━━━━━━━━━━━━━━━━━━━━━━━━━━━━━━\u001b[0m \u001b[32m289.9/289.9 kB\u001b[0m \u001b[31m4.6 MB/s\u001b[0m eta \u001b[36m0:00:00\u001b[0m\n",
            "\u001b[?25hCollecting pyahocorasick (from textsearch>=0.0.21->contractions)\n",
            "  Downloading pyahocorasick-2.0.0-cp310-cp310-manylinux_2_5_x86_64.manylinux1_x86_64.manylinux_2_12_x86_64.manylinux2010_x86_64.whl (110 kB)\n",
            "\u001b[2K     \u001b[90m━━━━━━━━━━━━━━━━━━━━━━━━━━━━━━━━━━━━━━━━\u001b[0m \u001b[32m110.8/110.8 kB\u001b[0m \u001b[31m10.6 MB/s\u001b[0m eta \u001b[36m0:00:00\u001b[0m\n",
            "\u001b[?25hInstalling collected packages: pyahocorasick, anyascii, textsearch, contractions\n",
            "Successfully installed anyascii-0.3.2 contractions-0.1.73 pyahocorasick-2.0.0 textsearch-0.0.24\n"
          ]
        },
        {
          "output_type": "stream",
          "name": "stderr",
          "text": [
            "[nltk_data] Downloading package wordnet to /root/nltk_data...\n",
            "[nltk_data] Downloading package stopwords to /root/nltk_data...\n",
            "[nltk_data]   Unzipping corpora/stopwords.zip.\n"
          ]
        },
        {
          "output_type": "execute_result",
          "data": {
            "text/plain": [
              "True"
            ]
          },
          "metadata": {},
          "execution_count": 1
        }
      ],
      "source": [
        "# Import necessary packages / libraries\n",
        "from tensorflow import keras\n",
        "import matplotlib.pyplot as plt\n",
        "import tensorflow as tf\n",
        "import tensorflow_datasets as tfds\n",
        "import pandas as pd\n",
        "import numpy as np\n",
        "import re\n",
        "import nltk\n",
        "import seaborn as sns\n",
        "from nltk.corpus import stopwords\n",
        "import unicodedata\n",
        "!pip install contractions\n",
        "import contractions\n",
        "from nltk.stem import WordNetLemmatizer\n",
        "from nltk.tokenize.toktok import ToktokTokenizer\n",
        "import warnings\n",
        "from sklearn.feature_extraction.text import CountVectorizer\n",
        "from sklearn.feature_extraction.text import TfidfVectorizer\n",
        "from sklearn.metrics.pairwise import cosine_similarity\n",
        "from sklearn import preprocessing\n",
        "warnings.filterwarnings('ignore')\n",
        "nltk.download('wordnet')\n",
        "nltk.download('stopwords')"
      ]
    },
    {
      "cell_type": "code",
      "source": [
        "# Get data from Tweet dataset. This dataset has been manually categorized by human contributors according to the author.\n",
        "\n",
        "# Getting data from link (option in case the user does not have the file)\n",
        "# df = pd.read_csv('/kaggle/input/emotion-detection-from-text/tweet_emotions.csv')\n",
        "\n",
        "\n",
        "\n",
        "Data = pd.read_csv('tweet_emotions.csv')\n",
        "print(Data.head())"
      ],
      "metadata": {
        "id": "RiIdxSYQdr5W",
        "colab": {
          "base_uri": "https://localhost:8080/"
        },
        "outputId": "1dba151b-3c9a-4537-d233-a3de0a7f7605"
      },
      "execution_count": 3,
      "outputs": [
        {
          "output_type": "stream",
          "name": "stdout",
          "text": [
            "     tweet_id   sentiment                                            content\n",
            "0  1956967341       empty  @tiffanylue i know  i was listenin to bad habi...\n",
            "1  1956967666     sadness  Layin n bed with a headache  ughhhh...waitin o...\n",
            "2  1956967696     sadness                Funeral ceremony...gloomy friday...\n",
            "3  1956967789  enthusiasm               wants to hang out with friends SOON!\n",
            "4  1956968416     neutral  @dannycastillo We want to trade with someone w...\n"
          ]
        }
      ]
    },
    {
      "cell_type": "code",
      "source": [
        "# Dataframe\n",
        "df = pd.DataFrame(Data)"
      ],
      "metadata": {
        "id": "Mk_kVcLzjY6W"
      },
      "execution_count": 6,
      "outputs": []
    },
    {
      "cell_type": "code",
      "source": [
        "# Count and percentage of each emotion\n",
        "frequency_counts = df['sentiment'].value_counts()\n",
        "\n",
        "frequency_percentage = (frequency_counts / len(df['sentiment'])) * 100\n",
        "frequency_df = pd.DataFrame({'Counts': frequency_counts, 'Percentage': frequency_percentage})\n",
        "\n",
        "print(frequency_df)\n",
        "\n",
        "# Print frequency and percentage for each unique category in the dataset\n",
        "cardinality = df['sentiment'].nunique()\n",
        "print(f\"\\ntotal categories: {cardinality}\")\n",
        "\n",
        "# Check for statistical significance (do not count categories under 30 responses).\n",
        "for i in frequency_counts:\n",
        "  if i < 31:\n",
        "    print(\"Not significant as responses are less than 30\")\n"
      ],
      "metadata": {
        "id": "22ISiMm7iy_v",
        "colab": {
          "base_uri": "https://localhost:8080/"
        },
        "outputId": "b7261c48-4c67-408f-a158-00d1aedc6b97"
      },
      "execution_count": 31,
      "outputs": [
        {
          "output_type": "stream",
          "name": "stdout",
          "text": [
            "            Counts  Percentage\n",
            "neutral       8638     21.5950\n",
            "worry         8459     21.1475\n",
            "happiness     5209     13.0225\n",
            "sadness       5165     12.9125\n",
            "love          3842      9.6050\n",
            "surprise      2187      5.4675\n",
            "fun           1776      4.4400\n",
            "relief        1526      3.8150\n",
            "hate          1323      3.3075\n",
            "empty          827      2.0675\n",
            "enthusiasm     759      1.8975\n",
            "boredom        179      0.4475\n",
            "anger          110      0.2750\n",
            "\n",
            "total categories: 13\n"
          ]
        }
      ]
    },
    {
      "cell_type": "code",
      "source": [
        "# Using seaborn to display a graph of category counts\n",
        "\n",
        "# Sorted category frequencies in order to display bar graph in descending order\n",
        "cat_freq = df['sentiment'].value_counts()\n",
        "ordered_cat_freq = cat_freq.index\n",
        "\n",
        "# Create a bar graph to display the results. The bar graph is horizontal for best readability\n",
        "sns.barplot(x = cat_freq.values,\n",
        "            y = ordered_cat_freq)\n",
        "plt.xlabel('# of Tweets')\n",
        "plt.ylabel('Emotion')\n",
        "plt.show()"
      ],
      "metadata": {
        "id": "gZw9Ethl63FM",
        "colab": {
          "base_uri": "https://localhost:8080/",
          "height": 449
        },
        "outputId": "9c571cdb-3f75-41f4-bb07-aa48e9cb0441"
      },
      "execution_count": 32,
      "outputs": [
        {
          "output_type": "display_data",
          "data": {
            "text/plain": [
              "<Figure size 640x480 with 1 Axes>"
            ],
            "image/png": "[encoded data removed]"
          },
          "metadata": {}
        }
      ]
    },
    {
      "cell_type": "code",
      "source": [
        "# Normalize Process\n",
        "\n",
        "# Cleaning and lemmatising\n",
        "\n",
        "X = df['content']\n",
        "cleaned = []\n",
        "\n",
        "for sen in range(0, len(X)):\n",
        "    # Remove all the special characters (any letter or a digit)\n",
        "    document = re.sub(r'\\W', ' ', str(X[sen]))\n",
        "\n",
        "    # Remove all single characters (surrounded by whitespace)\n",
        "    document = re.sub(r'\\s+[a-zA-Z]\\s+', ' ', document)\n",
        "\n",
        "    # Remove single characters from the start\n",
        "    document = re.sub(r'\\^[a-zA-Z]\\s+', ' ', document)\n",
        "\n",
        "    # Substituting multiple spaces with single space\n",
        "    document = re.sub(r'\\s+', ' ', document, flags=re.I)\n",
        "\n",
        "    # Removing prefixed 'b'\n",
        "    document = re.sub(r'^b\\s+', '', document)\n",
        "\n",
        "    # Converting to Lowercase\n",
        "    document = document.lower()\n",
        "\n",
        "    # Lemmatization- splits into list of words ['The', 'quick', ....]\n",
        "    document = document.split()\n",
        "\n",
        "    lemma = WordNetLemmatizer()\n",
        "    document = [lemma.lemmatize(word) for word in document]\n",
        "    document = ' '.join(document)\n",
        "    cleaned.append(document)\n",
        "\n",
        "# Print document output\n",
        "document"
      ],
      "metadata": {
        "id": "AjO0vry-dPUB",
        "colab": {
          "base_uri": "https://localhost:8080/",
          "height": 35
        },
        "outputId": "5e259b71-d066-4bc6-9879-7b758e47038d"
      },
      "execution_count": 16,
      "outputs": [
        {
          "output_type": "execute_result",
          "data": {
            "text/plain": [
              "'mopedronin bullet train from tokyo the gf and have been visiting japan since thursday vacation sightseeing gaijin godzilla'"
            ],
            "application/vnd.google.colaboratory.intrinsic+json": {
              "type": "string"
            }
          },
          "metadata": {},
          "execution_count": 16
        }
      ]
    },
    {
      "cell_type": "markdown",
      "source": [
        "#**Model**"
      ],
      "metadata": {
        "id": "fhqNSQXM7vGX"
      }
    },
    {
      "cell_type": "code",
      "source": [
        "# Set variables (content of tweets and the sentiment/emotion it is categorized as)\n",
        "X = np.array(df['content'])\n",
        "y = np.array(df['sentiment'])\n",
        "\n",
        "# Convert the sentiments into numbers in order to normalize labels\n",
        "Label_Encoder = preprocessing.LabelEncoder()\n",
        "y = Label_Encoder.fit_transform(y)"
      ],
      "metadata": {
        "id": "B6asFGVL76tK"
      },
      "execution_count": 17,
      "outputs": []
    },
    {
      "cell_type": "code",
      "source": [
        "# Create a vector\n",
        "vec = CountVectorizer()\n",
        "X = vec.fit_transform(X)\n"
      ],
      "metadata": {
        "id": "fCDb8-bu9D1m"
      },
      "execution_count": 18,
      "outputs": []
    },
    {
      "cell_type": "code",
      "source": [
        "# Import train_test_split. After struggling to get numpy to work, I found this solution online.\n",
        "from sklearn.model_selection import train_test_split\n",
        "\n",
        "# Train the model on the given data. random_state value is 42, as it is arbitrary but commonly used value.\n",
        "X_train, X_test, y_train, y_test = train_test_split(X, y, test_size = 0.2, random_state = 42)\n"
      ],
      "metadata": {
        "id": "YTu6-EsfBJJx"
      },
      "execution_count": 19,
      "outputs": []
    },
    {
      "cell_type": "code",
      "source": [
        "# After looking through the SKLEARN forums, I found this libray. Doing the model manually raised RAM errors. According to online sources, the dataset is too large.\n",
        "# Link to the website for citation (to avoid plagarism) - https://scikit-learn.org/stable/modules/generated/sklearn.naive_bayes.MultinomialNB.html#sklearn.naive_bayes.MultinomialNB\n",
        "from sklearn.naive_bayes import MultinomialNB\n",
        "\n",
        "MNB = MultinomialNB()\n",
        "MNB.fit(X_train, y_train)\n",
        "\n",
        "MNB_Predictions = MNB.predict(X_test)\n",
        "\n",
        "# Get statistic data\n",
        "from sklearn.metrics import precision_score, recall_score, f1_score, accuracy_score\n",
        "\n",
        "precision = precision_score(y_test, MNB_Predictions, average='weighted')\n",
        "recall = recall_score(y_test, MNB_Predictions, average='weighted')\n",
        "f1 = f1_score(y_test, MNB_Predictions, average='weighted')\n",
        "accuracy = accuracy_score(y_test, MNB_Predictions)\n",
        "\n",
        "from tabulate import tabulate   # Import library as the display was too difficult to read\n",
        "\n",
        "# Format results into a table for readability\n",
        "metric_data_table = [[\"Metric\", \"Score\"],\n",
        "              [\"Precision\", precision],\n",
        "              [\"Recall\", recall],\n",
        "              [\"F1-score\", f1],\n",
        "              [\"Accuracy\", accuracy]]\n",
        "\n",
        "\n",
        "print(tabulate(metric_data_table, headers=\"firstrow\", tablefmt=\"fancy_grid\"))\n"
      ],
      "metadata": {
        "colab": {
          "base_uri": "https://localhost:8080/"
        },
        "id": "P6pz52AsCCF_",
        "outputId": "39327d86-5a18-46f6-cde3-0fa59c7ded4d"
      },
      "execution_count": 21,
      "outputs": [
        {
          "output_type": "stream",
          "name": "stdout",
          "text": [
            "╒═══════════╤══════════╕\n",
            "│ Metric    │    Score │\n",
            "╞═══════════╪══════════╡\n",
            "│ Precision │ 0.286015 │\n",
            "├───────────┼──────────┤\n",
            "│ Recall    │ 0.307875 │\n",
            "├───────────┼──────────┤\n",
            "│ F1-score  │ 0.253573 │\n",
            "├───────────┼──────────┤\n",
            "│ Accuracy  │ 0.307875 │\n",
            "╘═══════════╧══════════╛\n"
          ]
        }
      ]
    },
    {
      "cell_type": "code",
      "source": [
        "# Display accuracy score against desired result\n",
        "\n",
        "print(\"Desired Accuracy: 50.00 %\")\n",
        "print(\"Current Accuracy: \", accuracy * 100, \"%\")\n",
        "print(\"Difference: \", 50 - (accuracy * 100), \"%\")\n"
      ],
      "metadata": {
        "colab": {
          "base_uri": "https://localhost:8080/"
        },
        "id": "QlfrqMfFDscU",
        "outputId": "463d3928-a92d-4e65-f87a-c1acad214f6f"
      },
      "execution_count": 22,
      "outputs": [
        {
          "output_type": "stream",
          "name": "stdout",
          "text": [
            "Desired Accuracy: 50.00 %\n",
            "Current Accuracy:  30.7875 %\n",
            "Difference:  19.2125 %\n"
          ]
        }
      ]
    },
    {
      "cell_type": "markdown",
      "source": [
        "##Potential Issues##\n",
        "\n",
        "1. As the majority of responses are neutral, this could bias the model and affect accuracy.\n",
        "2. The report must include a disclaimer stating the unbalanced counts and any categories that are not significant\n",
        "3. Some of the Tweets might have characters that were missed in the lemmatization process, however, there are too many to manually go through.\n",
        "\n",
        "##Steps:##\n",
        "1. Test the model by using a confusion matrix. This allows me to see which positives and negatives were true and/or false, better identifying any issues in the program."
      ],
      "metadata": {
        "id": "8qp-Ah5oHp4S"
      }
    },
    {
      "cell_type": "code",
      "source": [
        "# Import the necessary libraries\n",
        "from sklearn.metrics import confusion_matrix, classification_report\n",
        "\n",
        "sentiments = df['sentiment'].unique()   # It was confusing without the labels, so I pulled them out\n",
        "\n",
        "\n",
        "# Confusion Matrix\n",
        "confusion_mat = confusion_matrix(y_test, MNB_Predictions)   # Create the confusion matrix\n",
        "print(\"Confusion Matrix - Sentiment: \")\n",
        "print(pd.DataFrame(confusion_mat, columns = sentiments, index = sentiments))    # Print it out with the labels for readability\n"
      ],
      "metadata": {
        "colab": {
          "base_uri": "https://localhost:8080/"
        },
        "id": "x4gJa8SnJLTc",
        "outputId": "509fb50b-a639-4ed1-c6fb-31960ddf3d60"
      },
      "execution_count": 40,
      "outputs": [
        {
          "output_type": "stream",
          "name": "stdout",
          "text": [
            "Confusion Matrix - Sentiment: \n",
            "            empty  sadness  enthusiasm  neutral  worry  surprise  love  fun  \\\n",
            "empty           0        0           0        0      0         0     0    0   \n",
            "sadness         0        0           0        0      0         0     0    0   \n",
            "enthusiasm      0        0           0        1      0        12     0    3   \n",
            "neutral         0        0           0        0      0        18     0    4   \n",
            "worry           0        0           0        0      0        60     0   18   \n",
            "surprise        0        0           0        0      2       295     0   77   \n",
            "love            0        0           0        0      0         4     4    0   \n",
            "fun             0        0           0        0      0       143     0  212   \n",
            "hate            0        0           3        1      2       142     0   45   \n",
            "happiness       0        0           0        0      0        50     0   11   \n",
            "boredom         0        0           0        0      0        20     0   12   \n",
            "relief          0        0           1        0      0        54     1   12   \n",
            "anger           0        0           0        0      1        68     2   28   \n",
            "\n",
            "            hate  happiness  boredom  relief  anger  \n",
            "empty          7          0        1       0     11  \n",
            "sadness        5          0        2       0     24  \n",
            "enthusiasm    52          0        7       1     86  \n",
            "neutral       44          0        6       0     91  \n",
            "worry         87          0        8       1    164  \n",
            "surprise     256          1       11       0    386  \n",
            "love          46          0       17       0    197  \n",
            "fun          133          0       21       2    251  \n",
            "hate         608          0       48       8    883  \n",
            "happiness     79          0       16       0    196  \n",
            "boredom      119          0      108       1    786  \n",
            "relief        90          0       19       1    247  \n",
            "anger        245          1       86       0   1235  \n"
          ]
        }
      ]
    },
    {
      "cell_type": "markdown",
      "source": [
        "##Results:##\n",
        "* Using the confusion matrix, we can see that the first 4 categories performed poorly.\n",
        "* Notably, the program stuggled most with subjective classifications such as hate versus anger. While these are different, they share characteristics and could be reasonably mistaken.\n",
        "\n"
      ],
      "metadata": {
        "id": "jh-7WFhANBGg"
      }
    },
    {
      "cell_type": "code",
      "source": [
        "# Classification Report for additional clarification\n",
        "classification_rep = classification_report(y_test, MNB_Predictions, target_names = sentiments)   # Create the report. target_names was taken from GeekforGeek.\n",
        "print(\"Classification Report - Sentiment:\")\n",
        "print(classification_rep)"
      ],
      "metadata": {
        "colab": {
          "base_uri": "https://localhost:8080/"
        },
        "id": "IAbvZMrdM-eU",
        "outputId": "6a4ef646-fc76-4221-932f-779d5c55a439"
      },
      "execution_count": 42,
      "outputs": [
        {
          "output_type": "stream",
          "name": "stdout",
          "text": [
            "Classification Report - Sentiment:\n",
            "              precision    recall  f1-score   support\n",
            "\n",
            "       empty       0.00      0.00      0.00        19\n",
            "     sadness       0.00      0.00      0.00        31\n",
            "  enthusiasm       0.00      0.00      0.00       162\n",
            "     neutral       0.00      0.00      0.00       163\n",
            "       worry       0.00      0.00      0.00       338\n",
            "    surprise       0.34      0.29      0.31      1028\n",
            "        love       0.57      0.01      0.03       268\n",
            "         fun       0.50      0.28      0.36       762\n",
            "        hate       0.34      0.35      0.35      1740\n",
            "   happiness       0.00      0.00      0.00       352\n",
            "     boredom       0.31      0.10      0.15      1046\n",
            "      relief       0.07      0.00      0.00       425\n",
            "       anger       0.27      0.74      0.40      1666\n",
            "\n",
            "    accuracy                           0.31      8000\n",
            "   macro avg       0.19      0.14      0.12      8000\n",
            "weighted avg       0.29      0.31      0.25      8000\n",
            "\n"
          ]
        }
      ]
    },
    {
      "cell_type": "markdown",
      "source": [
        "##Results:##\n",
        "* Using the classification report, we can see that once again, the same categories are performing poorly. Namely: empty, sadness, enthusiasm, nuetral, worry, and happiness.\n",
        "* The model is performing strongly on love, relief, surprise, fun, and hate.\n",
        "\n",
        "##Steps:##\n",
        "* I found a few potential fixes for these issues. One was addressing potential class imbalances we saw above.\n",
        "* Another fix was to adjust either the weight or the evaluation method\n",
        "* We could consider judging the model's success on another metric other than accuracy, as some categories show an improve score in other metrics.\n",
        "\n"
      ],
      "metadata": {
        "id": "yx14y-x3OvZe"
      }
    },
    {
      "cell_type": "markdown",
      "source": [],
      "metadata": {
        "id": "WSqLY2D-QQqJ"
      }
    }
  ]
}
